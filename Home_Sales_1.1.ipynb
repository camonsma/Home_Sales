{
  "cells": [
    {
      "cell_type": "code",
      "execution_count": 1,
      "metadata": {
        "colab": {
          "base_uri": "https://localhost:8080/"
        },
        "id": "a_KW73O2e3dw",
        "outputId": "01a58395-3b4a-437b-d288-83450420ddfd"
      },
      "outputs": [
        {
          "output_type": "stream",
          "name": "stdout",
          "text": [
            "\r0% [Working]\r            \rGet:1 https://cloud.r-project.org/bin/linux/ubuntu jammy-cran40/ InRelease [3,626 B]\n",
            "\r0% [Connecting to archive.ubuntu.com (185.125.190.39)] [Waiting for headers] [1\r0% [Connecting to archive.ubuntu.com (185.125.190.39)] [Waiting for headers] [C\r                                                                               \rGet:2 https://developer.download.nvidia.com/compute/cuda/repos/ubuntu2204/x86_64  InRelease [1,581 B]\n",
            "\r0% [Connecting to archive.ubuntu.com (185.125.190.39)] [Waiting for headers] [C\r0% [Connecting to archive.ubuntu.com (185.125.190.39)] [Waiting for headers] [C\r                                                                               \rGet:3 http://security.ubuntu.com/ubuntu jammy-security InRelease [110 kB]\n",
            "Hit:4 http://archive.ubuntu.com/ubuntu jammy InRelease\n",
            "Get:5 https://developer.download.nvidia.com/compute/cuda/repos/ubuntu2204/x86_64  Packages [458 kB]\n",
            "Get:6 http://archive.ubuntu.com/ubuntu jammy-updates InRelease [119 kB]\n",
            "Hit:7 https://ppa.launchpadcontent.net/c2d4u.team/c2d4u4.0+/ubuntu jammy InRelease\n",
            "Get:8 http://archive.ubuntu.com/ubuntu jammy-backports InRelease [109 kB]\n",
            "Get:9 http://security.ubuntu.com/ubuntu jammy-security/restricted amd64 Packages [897 kB]\n",
            "Hit:10 https://ppa.launchpadcontent.net/deadsnakes/ppa/ubuntu jammy InRelease\n",
            "Get:11 http://archive.ubuntu.com/ubuntu jammy-updates/universe amd64 Packages [1,241 kB]\n",
            "Get:12 http://security.ubuntu.com/ubuntu jammy-security/universe amd64 Packages [980 kB]\n",
            "Hit:13 https://ppa.launchpadcontent.net/graphics-drivers/ppa/ubuntu jammy InRelease\n",
            "Get:14 http://security.ubuntu.com/ubuntu jammy-security/main amd64 Packages [860 kB]\n",
            "Get:15 http://archive.ubuntu.com/ubuntu jammy-updates/restricted amd64 Packages [923 kB]\n",
            "Get:16 http://archive.ubuntu.com/ubuntu jammy-updates/main amd64 Packages [1,136 kB]\n",
            "Hit:17 https://ppa.launchpadcontent.net/ubuntugis/ppa/ubuntu jammy InRelease\n",
            "Fetched 6,838 kB in 2s (4,526 kB/s)\n",
            "Reading package lists... Done\n"
          ]
        }
      ],
      "source": [
        "import os\n",
        "# Find the latest version of spark 3.x  from http://www.apache.org/dist/spark/ and enter as the spark version\n",
        "# For example:\n",
        "# spark_version = 'spark-3.4.0'\n",
        "spark_version = 'spark-3.4.0'\n",
        "os.environ['SPARK_VERSION']=spark_version\n",
        "\n",
        "# Install Spark and Java\n",
        "!apt-get update\n",
        "!apt-get install openjdk-11-jdk-headless -qq > /dev/null\n",
        "!wget -q http://www.apache.org/dist/spark/$SPARK_VERSION/$SPARK_VERSION-bin-hadoop3.tgz\n",
        "!tar xf $SPARK_VERSION-bin-hadoop3.tgz\n",
        "!pip install -q findspark\n",
        "\n",
        "# Set Environment Variables\n",
        "os.environ[\"JAVA_HOME\"] = \"/usr/lib/jvm/java-11-openjdk-amd64\"\n",
        "os.environ[\"SPARK_HOME\"] = f\"/content/{spark_version}-bin-hadoop3\"\n",
        "\n",
        "# Start a SparkSession\n",
        "import findspark\n",
        "findspark.init()"
      ]
    },
    {
      "cell_type": "code",
      "execution_count": 2,
      "metadata": {
        "id": "2XbWNf1Te5fM"
      },
      "outputs": [],
      "source": [
        "# Import packages\n",
        "from pyspark.sql import SparkSession\n",
        "import time\n",
        "\n",
        "# Create a SparkSession\n",
        "spark = SparkSession.builder.appName(\"SparkSQL\").getOrCreate()"
      ]
    },
    {
      "cell_type": "code",
      "execution_count": 3,
      "metadata": {
        "colab": {
          "base_uri": "https://localhost:8080/"
        },
        "id": "wOJqxG_RPSwp",
        "outputId": "5310ffd7-7010-4def-e2ef-c6d8ff38596a"
      },
      "outputs": [
        {
          "output_type": "stream",
          "name": "stdout",
          "text": [
            "+--------------------+----------+----------+------+--------+---------+-----------+--------+------+----------+----+\n",
            "|                  id|      date|date_built| price|bedrooms|bathrooms|sqft_living|sqft_lot|floors|waterfront|view|\n",
            "+--------------------+----------+----------+------+--------+---------+-----------+--------+------+----------+----+\n",
            "|f8a53099-ba1c-47d...|2022-04-08|      2016|936923|       4|        3|       3167|   11733|     2|         1|  76|\n",
            "|7530a2d8-1ae3-451...|2021-06-13|      2013|379628|       2|        2|       2235|   14384|     1|         0|  23|\n",
            "|43de979c-0bf0-4c9...|2019-04-12|      2014|417866|       2|        2|       2127|   10575|     2|         0|   0|\n",
            "|b672c137-b88c-48b...|2019-10-16|      2016|239895|       2|        2|       1631|   11149|     2|         0|   0|\n",
            "|e0726d4d-d595-407...|2022-01-08|      2017|424418|       3|        2|       2249|   13878|     2|         0|   4|\n",
            "|5aa00529-0533-46b...|2019-01-30|      2017|218712|       2|        3|       1965|   14375|     2|         0|   7|\n",
            "|131492a1-72e2-4a8...|2020-02-08|      2017|419199|       2|        3|       2062|    8876|     2|         0|   6|\n",
            "|8d54a71b-c520-44e...|2019-07-21|      2010|323956|       2|        3|       1506|   11816|     1|         0|  25|\n",
            "|e81aacfe-17fe-46b...|2020-06-16|      2016|181925|       3|        3|       2137|   11709|     2|         0|  22|\n",
            "|2ed8d509-7372-46d...|2021-08-06|      2015|258710|       3|        3|       1918|    9666|     1|         0|  25|\n",
            "|f876d86f-3c9f-42b...|2019-02-27|      2011|167864|       3|        3|       2471|   13924|     2|         0|  15|\n",
            "|0a2bd445-8508-4d8...|2021-12-30|      2014|337527|       2|        3|       1926|   12556|     1|         0|  23|\n",
            "|941bad30-eb49-4a7...|2020-05-09|      2015|229896|       3|        3|       2197|    8641|     1|         0|   3|\n",
            "|dd61eb34-6589-4c0...|2021-07-25|      2016|210247|       3|        2|       1672|   11986|     2|         0|  28|\n",
            "|f1e4cef7-d151-439...|2019-02-01|      2011|398667|       2|        3|       2331|   11356|     1|         0|   7|\n",
            "|ea620c7b-c2f7-4c6...|2021-05-31|      2011|437958|       3|        3|       2356|   11052|     1|         0|  26|\n",
            "|f233cb41-6f33-4b0...|2021-07-18|      2016|437375|       4|        3|       1704|   11721|     2|         0|  34|\n",
            "|c797ca12-52cd-4b1...|2019-06-08|      2015|288650|       2|        3|       2100|   10419|     2|         0|   7|\n",
            "|0cfe57f3-28c2-472...|2019-10-04|      2015|308313|       3|        3|       1960|    9453|     2|         0|   2|\n",
            "|4566cd2a-ac6e-435...|2019-07-15|      2016|177541|       3|        3|       2130|   10517|     2|         0|  25|\n",
            "+--------------------+----------+----------+------+--------+---------+-----------+--------+------+----------+----+\n",
            "only showing top 20 rows\n",
            "\n"
          ]
        }
      ],
      "source": [
        "# 1. Read in the AWS S3 bucket into a DataFrame.\n",
        "from pyspark import SparkFiles\n",
        "url = \"https://2u-data-curriculum-team.s3.amazonaws.com/dataviz-classroom/v1.2/22-big-data/home_sales_revised.csv\"\n",
        "\n",
        "spark.sparkContext.addFile(url)\n",
        "homes_df = spark.read.csv(SparkFiles.get(\"home_sales_revised.csv\"), header=True, inferSchema=True)\n",
        "\n",
        "# Show DataFrame\n",
        "homes_df.show()\n"
      ]
    },
    {
      "cell_type": "code",
      "execution_count": 4,
      "metadata": {
        "colab": {
          "base_uri": "https://localhost:8080/"
        },
        "id": "RoljcJ7WPpnm",
        "outputId": "365d12b0-e834-43ae-ed16-520647708415"
      },
      "outputs": [
        {
          "output_type": "stream",
          "name": "stdout",
          "text": [
            "root\n",
            " |-- id: string (nullable = true)\n",
            " |-- date: date (nullable = true)\n",
            " |-- date_built: integer (nullable = true)\n",
            " |-- price: integer (nullable = true)\n",
            " |-- bedrooms: integer (nullable = true)\n",
            " |-- bathrooms: integer (nullable = true)\n",
            " |-- sqft_living: integer (nullable = true)\n",
            " |-- sqft_lot: integer (nullable = true)\n",
            " |-- floors: integer (nullable = true)\n",
            " |-- waterfront: integer (nullable = true)\n",
            " |-- view: integer (nullable = true)\n",
            "\n"
          ]
        }
      ],
      "source": [
        "# 2. Create a temporary view of the DataFrame.\n",
        "homes_df.createOrReplaceTempView('homes')\n",
        "\n",
        "#average four bedroom house sold for each year two decimal places\n",
        "homes_df.printSchema() #check the schema for non ints or incorrect data types"
      ]
    },
    {
      "cell_type": "code",
      "execution_count": 5,
      "metadata": {
        "id": "WkEGNnYvDk2f"
      },
      "outputs": [],
      "source": [
        "# add the number format function to allow nnn.nn for pricing\n",
        "from pyspark.sql.functions import format_number #normally I would do this at the top of the program\n",
        "from pyspark.sql.functions import year"
      ]
    },
    {
      "cell_type": "code",
      "execution_count": 6,
      "metadata": {
        "colab": {
          "base_uri": "https://localhost:8080/"
        },
        "id": "L6fkwOeOmqvq",
        "outputId": "a410a786-d106-4ce6-8b28-b01f7235b1f1"
      },
      "outputs": [
        {
          "output_type": "stream",
          "name": "stdout",
          "text": [
            "+----+----------------------------+\n",
            "|year|format_number(avg(price), 2)|\n",
            "+----+----------------------------+\n",
            "|2022|                  314,421.54|\n",
            "|2021|                  313,218.09|\n",
            "|2020|                  315,949.81|\n",
            "|2019|                  315,782.18|\n",
            "+----+----------------------------+\n",
            "\n"
          ]
        }
      ],
      "source": [
        "# 3. What is the average price for a four bedroom house sold in each year rounded to two decimal places?\n",
        "# because I understood this as we are searching for the price of the 4 bedroom home sold in the given year we had to create a new column of just the sold date\n",
        "four_bd_df = homes_df.withColumn(\"year\", year(homes_df['date']))\n",
        "\n",
        "four_averages = four_bd_df.groupBy(\"year\").avg()\n",
        "four_averages.orderBy(\"year\",ascending=False).select(\"year\",format_number(\"avg(price)\",2)).show()\n"
      ]
    },
    {
      "cell_type": "code",
      "execution_count": 7,
      "metadata": {
        "colab": {
          "base_uri": "https://localhost:8080/"
        },
        "id": "l8p_tUS8h8it",
        "outputId": "bba702cd-4c9f-4046-d660-ab78a6ff5214"
      },
      "outputs": [
        {
          "output_type": "stream",
          "name": "stdout",
          "text": [
            "+----------+----------------------------+\n",
            "|date_built|format_number(avg(price), 2)|\n",
            "+----------+----------------------------+\n",
            "|      2017|                  292,676.79|\n",
            "|      2016|                  290,555.07|\n",
            "|      2015|                  288,770.30|\n",
            "|      2014|                  290,852.27|\n",
            "|      2013|                  295,962.27|\n",
            "|      2012|                  293,683.19|\n",
            "|      2011|                  291,117.47|\n",
            "|      2010|                  292,859.62|\n",
            "+----------+----------------------------+\n",
            "\n"
          ]
        }
      ],
      "source": [
        "# 4. What is the average price of a home for each year the home was built that have 3 bedrooms and 3 bathrooms rounded to two decimal places?\n",
        "three_bd_df = four_bd_df #copy the data frame\n",
        "three_room_bth = three_bd_df.filter((three_bd_df.bedrooms==3)&(three_bd_df.bathrooms==3)) #filter it down to the 3 bd and 3 bathroom\n",
        "three_averages = three_room_bth.groupBy(\"date_built\").avg() #group the the 3 bd and 3 baths by build date and average them\n",
        "three_averages.orderBy(\"date_built\",ascending=False).select(\"date_built\",format_number(\"avg(price)\",2)).show()"
      ]
    },
    {
      "cell_type": "code",
      "execution_count": 8,
      "metadata": {
        "colab": {
          "base_uri": "https://localhost:8080/"
        },
        "id": "Y-Eytz64liDU",
        "outputId": "daa2ad95-24cb-4b7c-a7d7-136fc0212831"
      },
      "outputs": [
        {
          "output_type": "stream",
          "name": "stdout",
          "text": [
            "+----------+----------------------------+\n",
            "|date_built|format_number(avg(price), 2)|\n",
            "+----------+----------------------------+\n",
            "|      2017|                  280,317.58|\n",
            "|      2016|                  293,965.10|\n",
            "|      2015|                  297,609.97|\n",
            "|      2014|                  298,264.72|\n",
            "|      2013|                  303,676.79|\n",
            "|      2012|                  307,539.97|\n",
            "|      2011|                  276,553.81|\n",
            "|      2010|                  285,010.22|\n",
            "+----------+----------------------------+\n",
            "\n"
          ]
        }
      ],
      "source": [
        "# 5. What is the average price of a home for each year built that have 3 bedrooms, 3 bathrooms, with two floors,\n",
        "# and are greater than or equal to 2,000 square feet rounded to two decimal places?\n",
        "two_fl_three_bd_df = four_bd_df #copy the data frame\n",
        "two_fl_three_df = two_fl_three_bd_df.filter((two_fl_three_bd_df.bedrooms==3)&(two_fl_three_bd_df.bathrooms==3)&(two_fl_three_bd_df.floors==2)) #filter it down to the 3 bd and 3 bathroom\n",
        "#add the square footage requirement\n",
        "two_fl_three_2k_df = two_fl_three_df.filter(two_fl_three_bd_df.sqft_living>=2000)\n",
        "#two_fl_three_2k_df.show()  # the two_fl_three_2k_df is the filtered down data frame to work with\n",
        "#get the average price by the year it was built\n",
        "two_k_averages = two_fl_three_2k_df.groupBy(\"date_built\").avg() #group the the 3 bd and 3 baths by build date and average them\n",
        "two_k_averages.orderBy(\"date_built\",ascending=False).select(\"date_built\",format_number(\"avg(price)\",2)).show()\n"
      ]
    },
    {
      "cell_type": "code",
      "execution_count": 9,
      "metadata": {
        "colab": {
          "base_uri": "https://localhost:8080/"
        },
        "id": "GUrfgOX1pCRd",
        "outputId": "df3d57b8-76d8-4da4-8733-ea2047ee07dd"
      },
      "outputs": [
        {
          "output_type": "stream",
          "name": "stdout",
          "text": [
            "+----------+----+----------+-----------+\n",
            "|avg(price)|view|date_built|sqft_living|\n",
            "+----------+----+----------+-----------+\n",
            "|  398750.0|  28|      2017|       2258|\n",
            "|  406369.0|  12|      2012|       2439|\n",
            "|  421355.0|   9|      2016|       1981|\n",
            "|  360203.0|   1|      2014|       2273|\n",
            "|  367581.0|  36|      2010|       2082|\n",
            "|  377410.0|  40|      2015|       1790|\n",
            "|  358842.0|  34|      2016|       1900|\n",
            "|  356872.0|   4|      2016|       2092|\n",
            "|  403431.0|  43|      2010|       2340|\n",
            "|  413675.0|  28|      2016|       2064|\n",
            "|  429295.0|  34|      2015|       1996|\n",
            "|  797263.0|  72|      2012|       3634|\n",
            "|  443712.0|   8|      2017|       2207|\n",
            "|  440746.0|  48|      2013|       1783|\n",
            "|  717361.0|  74|      2016|       4733|\n",
            "|  412379.0|  22|      2015|       2430|\n",
            "|  721804.0|  50|      2017|       4266|\n",
            "|  446330.0|  35|      2017|       1845|\n",
            "|  383624.0|   3|      2015|       1635|\n",
            "|  369169.0|  41|      2011|       2345|\n",
            "+----------+----+----------+-----------+\n",
            "only showing top 20 rows\n",
            "\n",
            "--- 0.9807543754577637 seconds ---\n"
          ]
        }
      ],
      "source": [
        "# 6. What is the \"view\" rating for the average price of a home, rounded to two decimal places, where the homes are greater than\n",
        "# or equal to $350,000? Although this is a small dataset, determine the run time for this query.\n",
        "\n",
        "query = '' # I always initialize varibles\n",
        "query = '''select avg(price),view, date_built, sqft_living\n",
        "            from homes\n",
        "                where price >=350000\n",
        "            GROUP BY price, view, date_built, sqft_living\n",
        " '''\n",
        "\n",
        "start_time = time.time()\n",
        "spark.sql(query).show()\n",
        "\n",
        "print(\"--- %s seconds ---\" % (time.time() - start_time))"
      ]
    },
    {
      "cell_type": "code",
      "execution_count": 11,
      "metadata": {
        "id": "KAhk3ZD2tFy8",
        "colab": {
          "base_uri": "https://localhost:8080/"
        },
        "outputId": "68085f10-77e5-4017-90a2-7941563d61d6"
      },
      "outputs": [
        {
          "output_type": "execute_result",
          "data": {
            "text/plain": [
              "DataFrame[]"
            ]
          },
          "metadata": {},
          "execution_count": 11
        }
      ],
      "source": [
        "# 7. Cache the the temporary table home_sales.\n",
        "#creating a new view of the csv table for different processing.\n",
        "homes_df.createOrReplaceTempView('home_sales')\n",
        "spark.sql(\"cache table home_sales\")"
      ]
    },
    {
      "cell_type": "code",
      "execution_count": 12,
      "metadata": {
        "id": "4opVhbvxtL-i",
        "colab": {
          "base_uri": "https://localhost:8080/"
        },
        "outputId": "a2f98f89-21f3-416c-f63c-c006fbf2e779"
      },
      "outputs": [
        {
          "output_type": "execute_result",
          "data": {
            "text/plain": [
              "True"
            ]
          },
          "metadata": {},
          "execution_count": 12
        }
      ],
      "source": [
        "# 8. Check if the table is cached.\n",
        "spark.catalog.isCached('home_sales')"
      ]
    },
    {
      "cell_type": "code",
      "execution_count": 14,
      "metadata": {
        "colab": {
          "base_uri": "https://localhost:8080/"
        },
        "id": "5GnL46lwTSEk",
        "outputId": "eb7b370b-d2d6-4e76-cda8-203df1ac8ed3"
      },
      "outputs": [
        {
          "output_type": "stream",
          "name": "stdout",
          "text": [
            "+----------+----+----------+-----------+\n",
            "|avg(price)|view|date_built|sqft_living|\n",
            "+----------+----+----------+-----------+\n",
            "|  398750.0|  28|      2017|       2258|\n",
            "|  406369.0|  12|      2012|       2439|\n",
            "|  421355.0|   9|      2016|       1981|\n",
            "|  360203.0|   1|      2014|       2273|\n",
            "|  367581.0|  36|      2010|       2082|\n",
            "|  377410.0|  40|      2015|       1790|\n",
            "|  358842.0|  34|      2016|       1900|\n",
            "|  356872.0|   4|      2016|       2092|\n",
            "|  403431.0|  43|      2010|       2340|\n",
            "|  413675.0|  28|      2016|       2064|\n",
            "|  429295.0|  34|      2015|       1996|\n",
            "|  797263.0|  72|      2012|       3634|\n",
            "|  443712.0|   8|      2017|       2207|\n",
            "|  440746.0|  48|      2013|       1783|\n",
            "|  717361.0|  74|      2016|       4733|\n",
            "|  412379.0|  22|      2015|       2430|\n",
            "|  721804.0|  50|      2017|       4266|\n",
            "|  446330.0|  35|      2017|       1845|\n",
            "|  383624.0|   3|      2015|       1635|\n",
            "|  369169.0|  41|      2011|       2345|\n",
            "+----------+----+----------+-----------+\n",
            "only showing top 20 rows\n",
            "\n",
            "--- 0.8600208759307861 seconds ---\n"
          ]
        }
      ],
      "source": [
        "# 9. Using the cached data, run the query that filters out the view ratings with average price\n",
        "#  greater than or equal to $350,000. Determine the runtime and compare it to uncached runtime.\n",
        "\n",
        "query = '' # I always initialize varibles\n",
        "query = '''select avg(price),view, date_built, sqft_living\n",
        "            from home_sales\n",
        "                where price >=350000\n",
        "            GROUP BY price, view, date_built, sqft_living\n",
        " '''\n",
        "#time it\n",
        "start_time = time.time()\n",
        "\n",
        "spark.sql(query).show()\n",
        "\n",
        "print(\"--- %s seconds ---\" % (time.time() - start_time))\n"
      ]
    },
    {
      "cell_type": "code",
      "execution_count": 15,
      "metadata": {
        "id": "Qm12WN9isHBR"
      },
      "outputs": [],
      "source": [
        "# 10. Partition by the \"date_built\" field on the formatted parquet home sales data\n",
        "homes_df.write.parquet('parquet_home_sales', mode='overwrite') #create the parquet object\n",
        "\n"
      ]
    },
    {
      "cell_type": "code",
      "execution_count": 16,
      "metadata": {
        "id": "AZ7BgY61sRqY"
      },
      "outputs": [],
      "source": [
        "# 11. Read the parquet formatted data.\n",
        "p_homes_df=spark.read.parquet('parquet_home_sales')"
      ]
    },
    {
      "cell_type": "code",
      "execution_count": 17,
      "metadata": {
        "id": "J6MJkHfvVcvh"
      },
      "outputs": [],
      "source": [
        "# 12. Create a temporary table for the parquet data.\n",
        "p_homes_df.createOrReplaceTempView('parquet_home_sales')"
      ]
    },
    {
      "cell_type": "code",
      "execution_count": 18,
      "metadata": {
        "colab": {
          "base_uri": "https://localhost:8080/"
        },
        "id": "G_Vhb52rU1Sn",
        "outputId": "b67d3a84-64da-46fd-ccdc-842c0cbcd1a6"
      },
      "outputs": [
        {
          "output_type": "stream",
          "name": "stdout",
          "text": [
            "+----------+----+----------+-----------+\n",
            "|avg(price)|view|date_built|sqft_living|\n",
            "+----------+----+----------+-----------+\n",
            "|  398750.0|  28|      2017|       2258|\n",
            "|  406369.0|  12|      2012|       2439|\n",
            "|  421355.0|   9|      2016|       1981|\n",
            "|  360203.0|   1|      2014|       2273|\n",
            "|  367581.0|  36|      2010|       2082|\n",
            "|  377410.0|  40|      2015|       1790|\n",
            "|  358842.0|  34|      2016|       1900|\n",
            "|  356872.0|   4|      2016|       2092|\n",
            "|  403431.0|  43|      2010|       2340|\n",
            "|  413675.0|  28|      2016|       2064|\n",
            "|  429295.0|  34|      2015|       1996|\n",
            "|  797263.0|  72|      2012|       3634|\n",
            "|  443712.0|   8|      2017|       2207|\n",
            "|  440746.0|  48|      2013|       1783|\n",
            "|  717361.0|  74|      2016|       4733|\n",
            "|  412379.0|  22|      2015|       2430|\n",
            "|  721804.0|  50|      2017|       4266|\n",
            "|  446330.0|  35|      2017|       1845|\n",
            "|  383624.0|   3|      2015|       1635|\n",
            "|  369169.0|  41|      2011|       2345|\n",
            "+----------+----+----------+-----------+\n",
            "only showing top 20 rows\n",
            "\n",
            "--- 0.9191184043884277 seconds ---\n"
          ]
        }
      ],
      "source": [
        "# 13. Run the query that filters out the view ratings with average price of greater than or equal to $350,000\n",
        "# with the parquet DataFrame. Round your average to two decimal places.\n",
        "# Determine the runtime and compare it to the cached version.\n",
        "\n",
        "query = '' # I always initialize varibles\n",
        "query = '''select avg(price),view, date_built, sqft_living\n",
        "            from parquet_home_sales\n",
        "                where price >=350000\n",
        "            GROUP BY price, view, date_built, sqft_living\n",
        " '''\n",
        "\n",
        "start_time = time.time()\n",
        "\n",
        "spark.sql(query).show()\n",
        "\n",
        "print(\"--- %s seconds ---\" % (time.time() - start_time))"
      ]
    },
    {
      "cell_type": "code",
      "execution_count": 19,
      "metadata": {
        "id": "hjjYzQGjtbq8",
        "colab": {
          "base_uri": "https://localhost:8080/"
        },
        "outputId": "f1b72d13-1580-4aa2-80da-cd5a35b80890"
      },
      "outputs": [
        {
          "output_type": "execute_result",
          "data": {
            "text/plain": [
              "DataFrame[]"
            ]
          },
          "metadata": {},
          "execution_count": 19
        }
      ],
      "source": [
        "# 14. Uncache the home_sales temporary table.\n",
        "spark.sql(\"uncache table parquet_home_sales\")"
      ]
    },
    {
      "cell_type": "code",
      "execution_count": 20,
      "metadata": {
        "id": "Sy9NBvO7tlmm",
        "colab": {
          "base_uri": "https://localhost:8080/"
        },
        "outputId": "6dd9da05-7b01-4d92-c26d-f9a4a1cb525f"
      },
      "outputs": [
        {
          "output_type": "stream",
          "name": "stdout",
          "text": [
            "all clear\n"
          ]
        }
      ],
      "source": [
        "# 15. Check if the home_sales is no longer cached\n",
        "#exactly like class exercise\n",
        "if spark.catalog.isCached(\"parquet_home_sales\"):\n",
        "  print(\"a table is still cached\")\n",
        "else:\n",
        "  print(\"all clear\")\n"
      ]
    },
    {
      "cell_type": "code",
      "execution_count": null,
      "metadata": {
        "id": "Si-BNruRUGK3"
      },
      "outputs": [],
      "source": []
    }
  ],
  "metadata": {
    "colab": {
      "provenance": []
    },
    "gpuClass": "standard",
    "kernelspec": {
      "display_name": "Python 3 (ipykernel)",
      "language": "python",
      "name": "python3"
    },
    "language_info": {
      "codemirror_mode": {
        "name": "ipython",
        "version": 3
      },
      "file_extension": ".py",
      "mimetype": "text/x-python",
      "name": "python",
      "nbconvert_exporter": "python",
      "pygments_lexer": "ipython3",
      "version": "3.10.4"
    },
    "nteract": {
      "version": "0.28.0"
    }
  },
  "nbformat": 4,
  "nbformat_minor": 0
}